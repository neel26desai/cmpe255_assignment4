{
  "nbformat": 4,
  "nbformat_minor": 0,
  "metadata": {
    "colab": {
      "provenance": [],
      "authorship_tag": "ABX9TyMPUkvc+CN8QuDlErCSgpoN",
      "include_colab_link": true
    },
    "kernelspec": {
      "name": "python3",
      "display_name": "Python 3"
    },
    "language_info": {
      "name": "python"
    }
  },
  "cells": [
    {
      "cell_type": "markdown",
      "metadata": {
        "id": "view-in-github",
        "colab_type": "text"
      },
      "source": [
        "<a href=\"https://colab.research.google.com/github/neel26desai/cmpe255_assignment4/blob/main/Apache_Beam.ipynb\" target=\"_parent\"><img src=\"https://colab.research.google.com/assets/colab-badge.svg\" alt=\"Open In Colab\"/></a>"
      ]
    },
    {
      "cell_type": "code",
      "execution_count": null,
      "metadata": {
        "id": "Ojt0cEu9EInc"
      },
      "outputs": [],
      "source": [
        "!pip install apache-beam"
      ]
    },
    {
      "cell_type": "code",
      "source": [
        "\n",
        "from google.colab import drive\n",
        "drive.mount('/content/drive')"
      ],
      "metadata": {
        "colab": {
          "base_uri": "https://localhost:8080/"
        },
        "id": "9L18bJd2EQdV",
        "outputId": "36a96beb-c00c-4999-f4e7-0c32eabebf44"
      },
      "execution_count": 3,
      "outputs": [
        {
          "output_type": "stream",
          "name": "stdout",
          "text": [
            "Mounted at /content/drive\n"
          ]
        }
      ]
    },
    {
      "cell_type": "code",
      "source": [
        "import json\n",
        "import logging\n",
        "from urllib.request import urlopen\n",
        "import argparse\n",
        "import apache_beam as beam\n",
        "from apache_beam.options.pipeline_options import PipelineOptions\n",
        "logger = logging.getLogger()\n",
        "logger.setLevel(logging.INFO)"
      ],
      "metadata": {
        "id": "40BakyddE4Mo"
      },
      "execution_count": 4,
      "outputs": []
    },
    {
      "cell_type": "code",
      "source": [
        "#reading the data\n",
        "with beam.Pipeline(options=PipelineOptions()) as p:\n",
        "    rows = p | 'Read from CSV' >> beam.io.ReadFromText('/content/drive/MyDrive/airline_delay.csv', skip_header_lines=1)\n"
      ],
      "metadata": {
        "colab": {
          "base_uri": "https://localhost:8080/"
        },
        "id": "nwTQ4p7mFHKR",
        "outputId": "e3169047-6b66-4a36-b5a5-dfe1ff35a319"
      },
      "execution_count": 25,
      "outputs": [
        {
          "output_type": "stream",
          "name": "stderr",
          "text": [
            "INFO:root:Missing pipeline option (runner). Executing pipeline using the default runner: DirectRunner.\n",
            "WARNING:apache_beam.options.pipeline_options:Discarding unparseable args: ['-f', '/root/.local/share/jupyter/runtime/kernel-771082aa-054a-494f-aaf3-d5f0698c99b2.json']\n",
            "WARNING:apache_beam.options.pipeline_options:Discarding unparseable args: ['-f', '/root/.local/share/jupyter/runtime/kernel-771082aa-054a-494f-aaf3-d5f0698c99b2.json']\n",
            "INFO:apache_beam.runners.portability.fn_api_runner.translations:==================== <function annotate_downstream_side_inputs at 0x7ed63e8f3be0> ====================\n",
            "INFO:apache_beam.runners.portability.fn_api_runner.translations:==================== <function fix_side_input_pcoll_coders at 0x7ed63e8f3d00> ====================\n",
            "INFO:apache_beam.runners.portability.fn_api_runner.translations:==================== <function pack_combiners at 0x7ed63e8f8280> ====================\n",
            "INFO:apache_beam.runners.portability.fn_api_runner.translations:==================== <function lift_combiners at 0x7ed63e8f8310> ====================\n",
            "INFO:apache_beam.runners.portability.fn_api_runner.translations:==================== <function expand_sdf at 0x7ed63e8f84c0> ====================\n",
            "INFO:apache_beam.runners.portability.fn_api_runner.translations:==================== <function expand_gbk at 0x7ed63e8f8550> ====================\n",
            "INFO:apache_beam.runners.portability.fn_api_runner.translations:==================== <function sink_flattens at 0x7ed63e8f8670> ====================\n",
            "INFO:apache_beam.runners.portability.fn_api_runner.translations:==================== <function greedily_fuse at 0x7ed63e8f8700> ====================\n",
            "INFO:apache_beam.runners.portability.fn_api_runner.translations:==================== <function read_to_impulse at 0x7ed63e8f8790> ====================\n",
            "INFO:apache_beam.runners.portability.fn_api_runner.translations:==================== <function impulse_to_input at 0x7ed63e8f8820> ====================\n",
            "INFO:apache_beam.runners.portability.fn_api_runner.translations:==================== <function sort_stages at 0x7ed63e8f8a60> ====================\n",
            "INFO:apache_beam.runners.portability.fn_api_runner.translations:==================== <function add_impulse_to_dangling_transforms at 0x7ed63e8f8b80> ====================\n",
            "INFO:apache_beam.runners.portability.fn_api_runner.translations:==================== <function setup_timer_mapping at 0x7ed63e8f89d0> ====================\n",
            "INFO:apache_beam.runners.portability.fn_api_runner.translations:==================== <function populate_data_channel_coders at 0x7ed63e8f8af0> ====================\n",
            "INFO:apache_beam.runners.worker.statecache:Creating state cache with size 104857600\n",
            "INFO:apache_beam.runners.portability.fn_api_runner.worker_handlers:Created Worker handler <apache_beam.runners.portability.fn_api_runner.worker_handlers.EmbeddedWorkerHandler object at 0x7ed63cb90340> for environment ref_Environment_default_environment_1 (beam:env:embedded_python:v1, b'')\n"
          ]
        }
      ]
    },
    {
      "cell_type": "code",
      "source": [
        "def parse_csv(row):\n",
        "    field_names = ['year', 'month', 'carrier', 'carrier_name', 'airport', 'airport_name',\n",
        "                   'arr_flights', 'arr_del15', 'carrier_ct', 'weather_ct', 'nas_ct',\n",
        "                   'security_ct', 'late_aircraft_ct', 'arr_cancelled', 'arr_diverted',\n",
        "                   'arr_delay', 'carrier_delay', 'weather_delay', 'nas_delay',\n",
        "                   'security_delay', 'late_aircraft_delay']\n",
        "    return dict(zip(field_names, row.split(',')))\n",
        "\n",
        "def filter_missing_data(row):\n",
        "    # Assuming empty fields are missing values\n",
        "    return all(row[field] for field in row)\n",
        "#removing rows with missing values\n",
        "cleaned_rows = rows | 'Parse CSV' >> beam.Map(parse_csv) | 'Filter Missing Data' >> beam.Filter(filter_missing_data)\n"
      ],
      "metadata": {
        "id": "Mb-7AnNuM2CB"
      },
      "execution_count": 26,
      "outputs": []
    },
    {
      "cell_type": "code",
      "source": [
        "#createing a composite transform for removing the cleaning the data\n",
        "class CleanData(beam.PTransform):\n",
        "    def expand(self, pcoll):\n",
        "        return (pcoll\n",
        "                | 'Parse CSV' >> beam.Map(parse_csv)\n",
        "                | 'Filter Missing Data' >> beam.Filter(filter_missing_data))\n"
      ],
      "metadata": {
        "id": "6RBWzq3uM8kN"
      },
      "execution_count": 27,
      "outputs": []
    },
    {
      "cell_type": "code",
      "source": [
        "#using it in pipeline\n",
        "cleaned_rows = rows | 'Clean Data' >> CleanData()\n"
      ],
      "metadata": {
        "id": "zd7j3MceNHaP"
      },
      "execution_count": 28,
      "outputs": []
    },
    {
      "cell_type": "code",
      "source": [
        "#usig windowing to group data at 5 minute interval\n",
        "windowed_rows = (cleaned_rows\n",
        "                 | 'Window' >> beam.WindowInto(\n",
        "                     beam.window.FixedWindows(5*60),  # 5 minutes window\n",
        "                ))\n"
      ],
      "metadata": {
        "id": "9RatMvpxNNz3"
      },
      "execution_count": 29,
      "outputs": []
    },
    {
      "cell_type": "code",
      "source": [
        "#pardo: log year and month for each valid record\n",
        "class LogYearMonth(beam.DoFn):\n",
        "    def process(self, element):\n",
        "        print(f\"Year: {element['year']}, Month: {element['month']}\")\n",
        "        yield element\n",
        "\n",
        "logged_rows = windowed_rows | 'Log Year and Month' >> beam.ParDo(LogYearMonth())\n"
      ],
      "metadata": {
        "id": "YkhixO_xNlMa"
      },
      "execution_count": 30,
      "outputs": []
    },
    {
      "cell_type": "code",
      "source": [
        "#saving the processes data as a csv file\n",
        "windowed_rows | 'Write to Output' >> beam.io.WriteToText('/content/drive/MyDrive/proceesed_file', file_name_suffix=\".csv\", shard_name_template='')"
      ],
      "metadata": {
        "colab": {
          "base_uri": "https://localhost:8080/"
        },
        "id": "Cc9_i6DVOmms",
        "outputId": "b8b6a188-5532-4e9b-b58a-df45ce814117"
      },
      "execution_count": 31,
      "outputs": [
        {
          "output_type": "execute_result",
          "data": {
            "text/plain": [
              "<PCollection[[31]: Write to Output/Write/WriteImpl/FinalizeWrite.None] at 0x7ed63cb92f80>"
            ]
          },
          "metadata": {},
          "execution_count": 31
        }
      ]
    },
    {
      "cell_type": "code",
      "source": [],
      "metadata": {
        "id": "senTGuKCQKXT"
      },
      "execution_count": null,
      "outputs": []
    }
  ]
}